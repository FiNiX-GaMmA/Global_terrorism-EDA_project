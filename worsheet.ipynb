{
 "cells": [
  {
   "cell_type": "markdown",
   "metadata": {},
   "source": [
    "# Global-terrorism-EDA-project\n",
    "coded and analysed by **@Aryaroop Majumder**\n",
    "### Problem Statement\n",
    "\n",
    "**Global terrorism** is described as the activities involving violence and crime with the intention to promote religious or political ideologies across the world. Global terrorism mainly consists of violence, threats and intimidation for pressurizing the government, International group or community in general.\n",
    "Global Terrorism is a serious threat to the international community. Including, western individuals travelling or living abroad overseas and a substantial threat to indigenous individuals located near, or within unstable regions or areas of terrorist activity.\n",
    "\n",
    "Globally, every region has recorded a higher average impact of terrorism in recent years than the early 2000s. The increase in the impact of terrorism was greatest felt in the _Middle East and North Africa, followed by sub-Saharan Africa._\n",
    "\n",
    "There is considered to be a heightened threat of terrorist attack globally, especially against western interests and nationals from groups, or individuals motivated by the recent conflicts in these areas.\n",
    "### What this project requires me to do\n",
    "\n",
    "As a security/defense analyst, I will try to do the following:- \n",
    "\n",
    "- Exploratory data analysis\n",
    "- Try to find out the hot zone of terrorism. \n",
    "- Handle the missing value \n",
    "- Do compare the various region…. visualize it and showing it on global map would be better to understand."
   ]
  },
  {
   "cell_type": "markdown",
   "metadata": {},
   "source": [
    "### What this project requires me to do\n",
    "\n",
    "As a security/defense analyst, I will try to do the following:- \n",
    "\n",
    "- Exploratory data analysis\n",
    "- Try to find out the hot zone of terrorism. \n",
    "- Handle the missing value \n",
    "- Do compare the various region…. visualize it and showing it on global map would be better to understand."
   ]
  },
  {
   "cell_type": "markdown",
   "metadata": {},
   "source": [
    "### Attribute Information\n",
    "\n",
    "- **eventid** - A 12-digit Event ID system. First 8 numbers – date recorded -“yyyymmdd”. Last 4 numbers \n",
    "- **iyear** - The feild contains the year in which the incident occured\n",
    "- **imonth** - This field contains the number of the month in which the incident occurred.\n",
    "- **iday** - This field contains the numeric day of the month on which the incident occurred\n",
    "- **extended** - 1 = \"Yes\" The duration of an incident extended more than 24 hours. 0 = \"No\" The duration of an incident extended less\n",
    "- **country** - This field identifies the country code\n",
    "- **country_txt** - This field identifies the country or location where the incident occurred.\n",
    "- **region** - This field identifies the region code based on 12 regions\n",
    "- **region_text** - This field identifies the region in which the incident occurred.\n",
    "- **provstate** - Name (at the time of event) of the 1st order subnational administrative region\n",
    "- **city** - Name of the city, village, or town in which the incident occurred\n",
    "- **latitude** - The latitude of the city in which the event occurred.\n",
    "- **longitude** - The longitude of the city in which the event occurred.\n",
    "- **success** - Success of a terrorist strike\n",
    "- **suicide** - 1 = \"Yes\" The incident was a suicide attack. 0 = \"No\" There is no indication that the incident was a suicide\n",
    "- **attacktype1** - The general method of attack\n",
    "- **attacktype1_txt** - The general method of attack and broad class of tactics used.\n",
    "- **targettype1** - Type of target\n",
    "- **targettype1_txt** - The general type of target/victim\n",
    "- **targsubtype1_txt** - The more specific target category\n",
    "- **target1** - The specific person, building, installation that was targeted and/or victimized\n",
    "- **natlty1_txt** - The nationality of the target that was attacked\n",
    "- **gname** - The name of the group that carried out the attack\n",
    "- **nperps** - The total number of terrorists participating in the incident\n",
    "- **weaptype1_txt** - General type of weapon used in the incident\n",
    "- **weapsubtype1_txt** - More specific value for most of the Weapon Types\n",
    "\n"
   ]
  },
  {
   "cell_type": "markdown",
   "metadata": {},
   "source": []
  }
 ],
 "metadata": {
  "kernelspec": {
   "display_name": "Python 3.9.12 ('base')",
   "language": "python",
   "name": "python3"
  },
  "language_info": {
   "name": "python",
   "version": "3.9.12"
  },
  "orig_nbformat": 4,
  "vscode": {
   "interpreter": {
    "hash": "60c4b2fdec53c5494299e92d4c06602a168c6e62d3efbe0b55ad79308aadad4a"
   }
  }
 },
 "nbformat": 4,
 "nbformat_minor": 2
}
